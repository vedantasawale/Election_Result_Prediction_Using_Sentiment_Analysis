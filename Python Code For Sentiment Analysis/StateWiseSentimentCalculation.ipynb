{
 "cells": [
  {
   "cell_type": "code",
   "execution_count": 1,
   "metadata": {},
   "outputs": [],
   "source": [
    "import pandas as pd\n",
    "import numpy as np\n",
    "import itertools\n",
    "\n",
    "data=pd.read_csv('PreprocessedTweetsFinal.csv')\n",
    "corp=data['tweet']\n",
    "y=data['sentiment']\n",
    "from sklearn.feature_extraction.text import TfidfVectorizer\n",
    "cv = TfidfVectorizer(max_features=1500)\n",
    "corpus = cv.fit_transform(corp).toarray()\n",
    "\n",
    "    \n",
    "    \n"
   ]
  },
  {
   "cell_type": "markdown",
   "metadata": {},
   "source": [
    "<h1>Segregating Preprocessed tweets State Wise</h1>\n",
    "<h2>Final Preprocessed tweets file was created by appending tweets statewise and indexes/Line number for every State was noted down,hence using the same to segregate tweets into respective States </h2>"
   ]
  },
  {
   "cell_type": "code",
   "execution_count": 5,
   "metadata": {},
   "outputs": [
    {
     "name": "stdout",
     "output_type": "stream",
     "text": [
      "[[0.         0.         0.         ... 0.         0.         0.        ]\n",
      " [0.         0.         0.         ... 0.         0.         0.        ]\n",
      " [0.         0.         0.         ... 0.         0.         0.        ]\n",
      " ...\n",
      " [0.         0.         0.         ... 0.         0.         0.        ]\n",
      " [0.         0.         0.         ... 0.         0.         0.        ]\n",
      " [0.         0.         0.17266495 ... 0.         0.         0.        ]]\n",
      "[[0. 0. 0. ... 0. 0. 0.]]\n",
      "[[0. 0. 0. ... 0. 0. 0.]]\n"
     ]
    },
    {
     "data": {
      "text/plain": [
       "RandomForestClassifier(bootstrap=True, class_weight=None, criterion='gini',\n",
       "            max_depth=None, max_features='auto', max_leaf_nodes=None,\n",
       "            min_impurity_decrease=0.0, min_impurity_split=None,\n",
       "            min_samples_leaf=1, min_samples_split=2,\n",
       "            min_weight_fraction_leaf=0.0, n_estimators=10, n_jobs=1,\n",
       "            oob_score=False, random_state=None, verbose=0,\n",
       "            warm_start=False)"
      ]
     },
     "execution_count": 5,
     "metadata": {},
     "output_type": "execute_result"
    }
   ],
   "source": [
    "\n",
    "xtrain=corpus[0:55305]\n",
    "ytrain=y[0:55305]\n",
    "xtrain=np.append(xtrain,corpus[73445:89444],axis=0)\n",
    "ytrain=np.append(ytrain,y[73445:89444],axis=0)\n",
    "bjptest=corpus[55305:73445]\n",
    "congtest=corpus[89445:105052]\n",
    "andhrabjp=corpus[105052:105481]\n",
    "andhracong=corpus[105481:105634]\n",
    "arunachalbjp=corpus[105634:105786]\n",
    "arunachalcong=corpus[105786:105904]\n",
    "assambjp=corpus[105904:105992]\n",
    "assamcong=corpus[105992:106918]\n",
    "biharbjp=corpus[106918:107102]\n",
    "biharcong=corpus[107102:107115]\n",
    "chandigarhbjp=corpus[107115:111065]\n",
    "chandigarhcong=corpus[111065:111884]\n",
    "delhibjp=corpus[111884:122006]\n",
    "delhicong=corpus[122006:129841]\n",
    "gujaratbjp=corpus[129841:132486]\n",
    "gujaratcong=corpus[132486:133356]\n",
    "karnatakabjp=corpus[133356:134369]\n",
    "karnatakacong=corpus[134369:135069]\n",
    "madhyabjp=corpus[135069:135988]\n",
    "madhyacong=corpus[135988:136624]\n",
    "mahabjp=corpus[136624:140719]\n",
    "mahacong=corpus[140719:143484]\n",
    "punjabbjp=corpus[143484:146514]\n",
    "punjabcong=corpus[146514:148706]\n",
    "rajbjp=corpus[148706:150585]\n",
    "rajcong=corpus[150585:151806]\n",
    "tamilbjp=corpus[151806:153016]\n",
    "tamilcong=corpus[153016:153867]\n",
    "upbjp=corpus[153867:156689]\n",
    "upcong=corpus[156689:158523]\n",
    "print(xtrain)\n",
    "print(xtrain[1:2])\n",
    "print(upcong[0:1])\n",
    "\n",
    "from sklearn.ensemble import RandomForestClassifier\n",
    "classifier = RandomForestClassifier()\n",
    "classifier.fit(xtrain,ytrain)\n",
    "\n",
    "\n"
   ]
  },
  {
   "cell_type": "markdown",
   "metadata": {},
   "source": [
    "<h1>Predicting Results/Sentiments for BJP and Congress Statewise using Random Forest</h1>"
   ]
  },
  {
   "cell_type": "code",
   "execution_count": 21,
   "metadata": {},
   "outputs": [],
   "source": [
    "bjpresult = classifier.predict(bjptest)\n",
    "congresult=classifier.predict(congtest)\n",
    "andhrabjpresult=classifier.predict(andhrabjp)\n",
    "andhracongresult=classifier.predict(andhracong)\n",
    "arunachalbjpresult=classifier.predict(arunachalbjp)\n",
    "arunachalcongresult=classifier.predict(arunachalcong)\n",
    "assambjpresult=classifier.predict(assambjp)\n",
    "assamcongresult=classifier.predict(assamcong)\n",
    "biharbjpresult=classifier.predict(biharbjp)\n",
    "biharcongresult=classifier.predict(biharcong)\n",
    "chandigarhbjpresult=classifier.predict(chandigarhbjp)\n",
    "chandigarhcongresult=classifier.predict(chandigarhcong)\n",
    "delhibjpresult=classifier.predict(delhibjp)\n",
    "delhicongresult=classifier.predict(delhicong)\n",
    "gujaratbjpresult=classifier.predict(gujaratbjp)\n",
    "gujaratcongresult=classifier.predict(gujaratcong)\n",
    "karnatakabjpresult=classifier.predict(karnatakabjp)\n",
    "karnatakacongresult=classifier.predict(karnatakacong)\n",
    "madhyabjpresult=classifier.predict(madhyabjp)\n",
    "madhyacongresult=classifier.predict(madhyacong)\n",
    "mahabjpresult=classifier.predict(mahabjp)\n",
    "mahacongresult=classifier.predict(mahacong)\n",
    "punjabbjpresult=classifier.predict(punjabbjp)\n",
    "punjabcongresult=classifier.predict(punjabcong)\n",
    "rajbjpresult=classifier.predict(rajbjp)\n",
    "rajcongresult=classifier.predict(rajcong)\n",
    "tamilbjpresult=classifier.predict(tamilbjp)\n",
    "tamilcongresult=classifier.predict(tamilcong)\n",
    "upbjpresult=classifier.predict(upbjp)\n",
    "upcongresult=classifier.predict(upcong)\n"
   ]
  },
  {
   "cell_type": "markdown",
   "metadata": {},
   "source": [
    "<h1>Function to Calculate actual Sentiment Score from Predicted Sentiments</h1>"
   ]
  },
  {
   "cell_type": "code",
   "execution_count": null,
   "metadata": {},
   "outputs": [],
   "source": [
    "def result(a,b):\n",
    "    \n",
    "    p=0\n",
    "    cnt=0\n",
    "    for i in a:\n",
    "        cnt=cnt+1\n",
    "        if(i=='1'):\n",
    "            p=p+1\n",
    "    print(b,\"result -p\",p,\"cnt\",cnt,\"positivepercent\",p/cnt)      \n",
    "\n",
    "result(bjpresult,\"bjpindia\")\n",
    "result(congresult,\"congressindia\")\n",
    "result(andhrabjpresult,\"andhra-bjp\")\n",
    "result(andhracongresult,\"andhra-cong\")\n",
    "result(arunachalbjpresult,\"arunachal-bjp\")\n",
    "result(arunachalcongresult,\"arunachal-cong\")\n",
    "result(assambjpresult,\"assam-bjp\")\n",
    "result(assamcongresult,\"assam-cong\")\n",
    "result(biharbjpresult,\"bihar-bjp\")\n",
    "result(biharcongresult,\"bihar-cong\")\n",
    "result(chandigarhbjpresult,\"chandigarh-bjp\")\n",
    "result(chandigarhcongresult,\"chandigarh-cong\")\n",
    "result(delhibjpresult,\"delhi-bjp\")\n",
    "result(delhicongresult,\"delhi-cong\")\n",
    "result(gujaratbjpresult,\"gujarat-bjp\")\n",
    "result(gujaratcongresult,\"gujarat-cong\")\n",
    "result(karnatakabjpresult,\"karnataka-bjp\")\n",
    "result(karnatakacongresult,\"karnataka-cong\")\n",
    "result(madhyabjpresult,\"madhya-bjp\")\n",
    "result(madhyacongresult,\"madhya-cong\")\n",
    "result(mahabjpresult,\"maha-bjp\")\n",
    "result(mahacongresult,\"maha-cong\")\n",
    "result(punjabbjpresult,\"punjab-bjp\")\n",
    "result(punjabcongresult,\"punjab-cong\")\n",
    "result(rajbjpresult,\"raj-bjp\")\n",
    "result(rajcongresult,\"raj-cong\")\n",
    "result(tamilbjpresult,\"tamil-bjp\")\n",
    "result(tamilcongresult,\"tamil-cong\")\n",
    "result(upbjpresult,\"up-bjp\")\n",
    "result(upcongresult,\"up-cong\")"
   ]
  },
  {
   "cell_type": "code",
   "execution_count": null,
   "metadata": {},
   "outputs": [],
   "source": [
    "for i in range(37305,55305):\n",
    "    tweet=dataset['tweet'][i]\n",
    "    sentiment=dataset['sentiment'][i]\n",
    "    xtrain.append(tweet)\n",
    "    ytrain.append(sentiment)"
   ]
  },
  {
   "cell_type": "code",
   "execution_count": null,
   "metadata": {},
   "outputs": [],
   "source": [
    "for i in range(73446,89444):\n",
    "    tweet=dataset['tweet'][i]\n",
    "    sentiment=dataset['sentiment'][i]\n",
    "    xtrain.append(tweet)\n",
    "    ytrain.append(sentiment)"
   ]
  },
  {
   "cell_type": "code",
   "execution_count": null,
   "metadata": {},
   "outputs": [],
   "source": [
    "for i in range(55305,73445):\n",
    "    tweet=dataset['tweet'][i]\n",
    "    sentiment=dataset['sentiment'][i]\n",
    "    bjptest.append(tweet)\n",
    "    "
   ]
  },
  {
   "cell_type": "code",
   "execution_count": null,
   "metadata": {},
   "outputs": [],
   "source": [
    "for i in range(89445,105052):\n",
    "    tweet=dataset['tweet'][i]\n",
    "    sentiment=dataset['sentiment'][i]\n",
    "    congresstest.append(tweet)\n",
    "    "
   ]
  },
  {
   "cell_type": "code",
   "execution_count": null,
   "metadata": {},
   "outputs": [],
   "source": []
  }
 ],
 "metadata": {
  "kernelspec": {
   "display_name": "Python 3",
   "language": "python",
   "name": "python3"
  },
  "language_info": {
   "codemirror_mode": {
    "name": "ipython",
    "version": 3
   },
   "file_extension": ".py",
   "mimetype": "text/x-python",
   "name": "python",
   "nbconvert_exporter": "python",
   "pygments_lexer": "ipython3",
   "version": "3.7.0"
  }
 },
 "nbformat": 4,
 "nbformat_minor": 2
}
